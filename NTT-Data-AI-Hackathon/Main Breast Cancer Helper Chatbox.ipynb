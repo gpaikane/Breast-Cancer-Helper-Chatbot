{
 "cells": [
  {
   "cell_type": "markdown",
   "id": "2973cd72",
   "metadata": {},
   "source": [
    "# Breast Cancer Helper Chatbox\n",
    "\n",
    "\n",
    "  1.  A chatbot which assess risk of Breast Cancer\n",
    "  2.  Answers queries related to breast cancer like, treatments, cancer terms etc.\n"
   ]
  },
  {
   "cell_type": "markdown",
   "id": "04938971",
   "metadata": {},
   "source": [
    "## Working of Chat Bot\n",
    "\n",
    "Input is taken from user and is sent to Text classification model created in `Train Breast Cancer NLP Model for Chatbot`\n",
    "The NLP model analysis the input from user and classifies it in one of the class from `output_df`. \n",
    "`output_df` countans the responses.\n",
    "\n",
    "Once the classifier classifies the class, one of the response from the corresponding responses will be taken and displayed to the user.\n",
    "\n",
    "If the content is classfied for tag `CancerRisk`, more inputs are taken from user related to medical history and that data is used to identify probable risk of future Breast Cancer using model created in `Breast Cancer Risk Predictor Model`\n",
    "note book\n"
   ]
  },
  {
   "cell_type": "code",
   "execution_count": 1,
   "id": "30dd569f",
   "metadata": {},
   "outputs": [],
   "source": [
    "import numpy as np\n",
    "import pandas as pd\n",
    "import json\n",
    "import tensorflow as tf"
   ]
  },
  {
   "cell_type": "code",
   "execution_count": 3,
   "id": "5769ccaf",
   "metadata": {},
   "outputs": [],
   "source": [
    "# load responses for classes, more info on this is in `Train Breast Cancer NLP Model for Chatbot`\n",
    "output_df = pd.read_json(\"save_replys_dataframe/output_df.json\")"
   ]
  },
  {
   "cell_type": "code",
   "execution_count": 4,
   "id": "58241642",
   "metadata": {},
   "outputs": [
    {
     "data": {
      "text/html": [
       "<div>\n",
       "<style scoped>\n",
       "    .dataframe tbody tr th:only-of-type {\n",
       "        vertical-align: middle;\n",
       "    }\n",
       "\n",
       "    .dataframe tbody tr th {\n",
       "        vertical-align: top;\n",
       "    }\n",
       "\n",
       "    .dataframe thead th {\n",
       "        text-align: right;\n",
       "    }\n",
       "</style>\n",
       "<table border=\"1\" class=\"dataframe\">\n",
       "  <thead>\n",
       "    <tr style=\"text-align: right;\">\n",
       "      <th></th>\n",
       "      <th>tag</th>\n",
       "      <th>responses</th>\n",
       "      <th>class</th>\n",
       "    </tr>\n",
       "  </thead>\n",
       "  <tbody>\n",
       "    <tr>\n",
       "      <th>0</th>\n",
       "      <td>greetings</td>\n",
       "      <td>[Hello, Hey!, What can I do for you?]</td>\n",
       "      <td>9</td>\n",
       "    </tr>\n",
       "    <tr>\n",
       "      <th>1</th>\n",
       "      <td>goodbye</td>\n",
       "      <td>[Sad to see you go :(, Talk to you later, Good...</td>\n",
       "      <td>8</td>\n",
       "    </tr>\n",
       "    <tr>\n",
       "      <th>2</th>\n",
       "      <td>cancerInfo</td>\n",
       "      <td>[A disease in which abnormal cells divide unco...</td>\n",
       "      <td>5</td>\n",
       "    </tr>\n",
       "    <tr>\n",
       "      <th>3</th>\n",
       "      <td>BreastcancerInfo</td>\n",
       "      <td>[When cells divide uncontrollably in Breast an...</td>\n",
       "      <td>0</td>\n",
       "    </tr>\n",
       "    <tr>\n",
       "      <th>4</th>\n",
       "      <td>tumor</td>\n",
       "      <td>[A tumor or lump is any abnormal mass of tissu...</td>\n",
       "      <td>10</td>\n",
       "    </tr>\n",
       "  </tbody>\n",
       "</table>\n",
       "</div>"
      ],
      "text/plain": [
       "                tag                                          responses  class\n",
       "0         greetings              [Hello, Hey!, What can I do for you?]      9\n",
       "1           goodbye  [Sad to see you go :(, Talk to you later, Good...      8\n",
       "2        cancerInfo  [A disease in which abnormal cells divide unco...      5\n",
       "3  BreastcancerInfo  [When cells divide uncontrollably in Breast an...      0\n",
       "4             tumor  [A tumor or lump is any abnormal mass of tissu...     10"
      ]
     },
     "execution_count": 4,
     "metadata": {},
     "output_type": "execute_result"
    }
   ],
   "source": [
    "output_df.head()"
   ]
  },
  {
   "cell_type": "code",
   "execution_count": 5,
   "id": "a551b5b2",
   "metadata": {},
   "outputs": [],
   "source": [
    "# import NLP model created to classify user's inputs to one of the classes mentioned in `output_df`. More info on this is providied in `Train Breast Cancer NLP Model for Chatbot`\n",
    "import tensorflow as tf\n",
    "import tensorflow_hub as hub\n",
    "model_load  = tf.keras.models.load_model(\"models/NLP_model.h5\", custom_objects={'KerasLayer': hub.KerasLayer})"
   ]
  },
  {
   "cell_type": "markdown",
   "id": "a101c8cd",
   "metadata": {},
   "source": [
    "## Check Breast Cancer risk using \"Breast Cancer Risk Predictor Model\""
   ]
  },
  {
   "cell_type": "code",
   "execution_count": 6,
   "id": "e2a26849",
   "metadata": {},
   "outputs": [],
   "source": [
    "# import model which predicts Breast Cancer Risk. The Model is created in `Breast Cancer Risk Predictor Model` notebook\n",
    "import joblib\n",
    "loadedModel = joblib.load('models/BC_risk_model.pkl')"
   ]
  },
  {
   "cell_type": "code",
   "execution_count": 7,
   "id": "83b44636",
   "metadata": {},
   "outputs": [],
   "source": [
    "def checkBreastCancerRisk():\n",
    "    inputs = []\n",
    "    print(\"Do you want to analyze your risk of getting Breast Cancer? \\nyou will be asked few questions and at the end you will get a result in terms of probabilty percentage(0% means least probable and  100% means most probable)\\n do you want to continue? (y/n)\")\n",
    "    user_input =input()\n",
    "    \n",
    "    if (user_input.casefold() != \"yes\".casefold() and   user_input.casefold() != \"y\".casefold()):\n",
    "        print(\"HelperBot: No Problem, how else can I help you ?\")\n",
    "        return\n",
    "    \n",
    "    print(\"HelperBot: What is your Meanopause status?\\n If premenopausal enter '0' if postmenopausal or if age greater than or equal to 55 enter '1', if unknown enter '9' \")\n",
    "    inputs.append(int(input(\"Me: \")))\n",
    "        \n",
    "    print(\"HelperBot: Enter Age Group:\\n '1' for 35-39; '2' for 40-44; '3' for 45-49; '4' for 50-54; '5' for 55-59; '6' for 60-64; '7' for 65-69; '8' for 70-74; '9' for 75-79; '10' for 80-84\")\n",
    "    inputs.append(int(input(\"Me: \")))\n",
    "    \n",
    "    print(\"HelperBot: Do you know your Breast Density? If you don't know please enter '9' else enter according to the below mentioned categories:\\n'1' for Almost entirely fat; '2' for Scattered fibroglandular densities; '3' for Heterogeneously dense; '4' for Extremely dense; '9' for Unknown or different measurement system\")\n",
    "    inputs.append(int(input(\"Me: \")))\n",
    "    \n",
    "    print(\"HelperBot: Please mention your race as per below categories:\\n'1' for white; '2' for Asian/Pacific Islander; '3' for black; '4; for Native American; '5' for other/mixed; '9' for unknown\")\n",
    "    inputs.append(int(input(\"Me: \")))\n",
    "    \n",
    "    print(\"HelperBot: Are you a Hispanic? (a person of Cuban, Mexican, Puerto Rican, South or Central American, or other Spanish culture or origin regardless of race.)\\n Enter'0' for no; '1' for yes; '9' for unknown\")\n",
    "    inputs.append(int(input(\"Me: \")))\n",
    "    \n",
    "    print(\"HelperBot: Enter your bmi:\\nEnter '1' if BMI falls in '10-24.99'; 2 if bmi fall in '25-29.99'; 3 if bmi falls in '30-34.99'; '4' if bmi fall in '35 or more'; '9' if unknown\")\n",
    "    inputs.append(int(input(\"Me: \")))\n",
    "\n",
    "    print(\"HelperBot: What was your age when your first baby was born?\\nEnter '0' if  Age was less than 30; '1' if Age was 30 or greater; Enter '2' if Nulliparous; Enter '9' if unknown\")\n",
    "    inputs.append(int(input(\"Me: \")))\n",
    "\n",
    "    print(\"HelperBot: How many of your first degree relatives have or had Breast cancer?\\nEnter '0' for zero; '1' for one; '2' for 2 or more; '9' for unknown`\")\n",
    "    inputs.append(int(input(\"Me: \")))\n",
    "    \n",
    "    print(\"HelperBot: Has any procedure, like biopsy or any breast related surgery was done on you?\\nEnter '0' for 'no';Enter '1' = yes; '9' = unknown\")\n",
    "    inputs.append(int(input(\"Me: \")))\n",
    "    \n",
    "    print(\"HelperBot: Result of last mammogram you had:\\n '0' for negative for suspected cancer; '1' for false positive for suspected cancer; '9' for unknown or none of the above. \")\n",
    "    inputs.append(int(input(\"Me: \")))\n",
    "    \n",
    "    print(\"HelperBot: Did you have Surgical menopause:\\n'0' for natural; '1' for surgical; '9' for unknown or not menopausal (menopaus=0 or menopaus=9)\")\n",
    "    inputs.append(int(input(\"Me: \")))\n",
    "    \n",
    "    print(\"HelperBot: Are you currently on hormone therapy?\\nEnter '0' for no; '1' for yes; '9' for unknown or not menopausal (menopaus=0 or menopaus=9)\")\n",
    "    inputs.append(int(input(\"Me: \")))\n",
    "    \n",
    "    probablity = loadedModel.predict_proba([inputs])[0][1]\n",
    "    \n",
    "    print(f\"\\nYour chance of getting Breast Cancer is: {probablity*100:.2f}%\")\n",
    "    print(\"\\nHelperBot: Thanks, anything else I can do for you?\")"
   ]
  },
  {
   "cell_type": "code",
   "execution_count": 10,
   "id": "55851a46",
   "metadata": {},
   "outputs": [
    {
     "name": "stdout",
     "output_type": "stream",
     "text": [
      "HelperBot: Hi How may I help you?\n",
      "Me:hi\n"
     ]
    },
    {
     "ename": "InternalError",
     "evalue": "GPU sync failed",
     "output_type": "error",
     "traceback": [
      "\u001b[1;31m---------------------------------------------------------------------------\u001b[0m",
      "\u001b[1;31mInternalError\u001b[0m                             Traceback (most recent call last)",
      "\u001b[1;32m~\\AppData\\Local\\Temp\\ipykernel_17732\\2397688707.py\u001b[0m in \u001b[0;36m<module>\u001b[1;34m\u001b[0m\n\u001b[0;32m      3\u001b[0m \u001b[1;32mwhile\u001b[0m\u001b[1;33m(\u001b[0m\u001b[1;36m1\u001b[0m\u001b[1;33m)\u001b[0m\u001b[1;33m:\u001b[0m\u001b[1;33m\u001b[0m\u001b[1;33m\u001b[0m\u001b[0m\n\u001b[0;32m      4\u001b[0m     \u001b[0muser_input\u001b[0m \u001b[1;33m=\u001b[0m \u001b[0minput\u001b[0m\u001b[1;33m(\u001b[0m\u001b[1;34m\"Me:\"\u001b[0m\u001b[1;33m)\u001b[0m\u001b[1;33m\u001b[0m\u001b[1;33m\u001b[0m\u001b[0m\n\u001b[1;32m----> 5\u001b[1;33m     \u001b[0mpredicted_result\u001b[0m \u001b[1;33m=\u001b[0m \u001b[0mmodel_load\u001b[0m\u001b[1;33m.\u001b[0m\u001b[0mpredict\u001b[0m\u001b[1;33m(\u001b[0m\u001b[1;33m[\u001b[0m\u001b[0muser_input\u001b[0m\u001b[1;33m]\u001b[0m\u001b[1;33m)\u001b[0m\u001b[1;33m\u001b[0m\u001b[1;33m\u001b[0m\u001b[0m\n\u001b[0m\u001b[0;32m      6\u001b[0m     \u001b[0mclass_output\u001b[0m \u001b[1;33m=\u001b[0m \u001b[0mpredicted_result\u001b[0m\u001b[1;33m.\u001b[0m\u001b[0margmax\u001b[0m\u001b[1;33m(\u001b[0m\u001b[1;33m)\u001b[0m\u001b[1;33m\u001b[0m\u001b[1;33m\u001b[0m\u001b[0m\n\u001b[0;32m      7\u001b[0m     \u001b[1;31m#print(class_output)\u001b[0m\u001b[1;33m\u001b[0m\u001b[1;33m\u001b[0m\u001b[1;33m\u001b[0m\u001b[0m\n",
      "\u001b[1;32m~\\.conda\\envs\\NEW_TF\\lib\\site-packages\\tensorflow\\python\\keras\\engine\\training.py\u001b[0m in \u001b[0;36m_method_wrapper\u001b[1;34m(self, *args, **kwargs)\u001b[0m\n\u001b[0;32m    128\u001b[0m       raise ValueError('{} is not supported in multi-worker mode.'.format(\n\u001b[0;32m    129\u001b[0m           method.__name__))\n\u001b[1;32m--> 130\u001b[1;33m     \u001b[1;32mreturn\u001b[0m \u001b[0mmethod\u001b[0m\u001b[1;33m(\u001b[0m\u001b[0mself\u001b[0m\u001b[1;33m,\u001b[0m \u001b[1;33m*\u001b[0m\u001b[0margs\u001b[0m\u001b[1;33m,\u001b[0m \u001b[1;33m**\u001b[0m\u001b[0mkwargs\u001b[0m\u001b[1;33m)\u001b[0m\u001b[1;33m\u001b[0m\u001b[1;33m\u001b[0m\u001b[0m\n\u001b[0m\u001b[0;32m    131\u001b[0m \u001b[1;33m\u001b[0m\u001b[0m\n\u001b[0;32m    132\u001b[0m   return tf_decorator.make_decorator(\n",
      "\u001b[1;32m~\\.conda\\envs\\NEW_TF\\lib\\site-packages\\tensorflow\\python\\keras\\engine\\training.py\u001b[0m in \u001b[0;36mpredict\u001b[1;34m(self, x, batch_size, verbose, steps, callbacks, max_queue_size, workers, use_multiprocessing)\u001b[0m\n\u001b[0;32m   1577\u001b[0m           \u001b[0muse_multiprocessing\u001b[0m\u001b[1;33m=\u001b[0m\u001b[0muse_multiprocessing\u001b[0m\u001b[1;33m,\u001b[0m\u001b[1;33m\u001b[0m\u001b[1;33m\u001b[0m\u001b[0m\n\u001b[0;32m   1578\u001b[0m           \u001b[0mmodel\u001b[0m\u001b[1;33m=\u001b[0m\u001b[0mself\u001b[0m\u001b[1;33m,\u001b[0m\u001b[1;33m\u001b[0m\u001b[1;33m\u001b[0m\u001b[0m\n\u001b[1;32m-> 1579\u001b[1;33m           steps_per_execution=self._steps_per_execution)\n\u001b[0m\u001b[0;32m   1580\u001b[0m \u001b[1;33m\u001b[0m\u001b[0m\n\u001b[0;32m   1581\u001b[0m       \u001b[1;31m# Container that configures and calls `tf.keras.Callback`s.\u001b[0m\u001b[1;33m\u001b[0m\u001b[1;33m\u001b[0m\u001b[1;33m\u001b[0m\u001b[0m\n",
      "\u001b[1;32m~\\.conda\\envs\\NEW_TF\\lib\\site-packages\\tensorflow\\python\\keras\\engine\\data_adapter.py\u001b[0m in \u001b[0;36m__init__\u001b[1;34m(self, x, y, sample_weight, batch_size, steps_per_epoch, initial_epoch, epochs, shuffle, class_weight, max_queue_size, workers, use_multiprocessing, model, steps_per_execution)\u001b[0m\n\u001b[0;32m   1100\u001b[0m     \u001b[1;32melse\u001b[0m\u001b[1;33m:\u001b[0m\u001b[1;33m\u001b[0m\u001b[1;33m\u001b[0m\u001b[0m\n\u001b[0;32m   1101\u001b[0m       \u001b[0mself\u001b[0m\u001b[1;33m.\u001b[0m\u001b[0m_steps_per_execution\u001b[0m \u001b[1;33m=\u001b[0m \u001b[0msteps_per_execution\u001b[0m\u001b[1;33m\u001b[0m\u001b[1;33m\u001b[0m\u001b[0m\n\u001b[1;32m-> 1102\u001b[1;33m       \u001b[0mself\u001b[0m\u001b[1;33m.\u001b[0m\u001b[0m_steps_per_execution_value\u001b[0m \u001b[1;33m=\u001b[0m \u001b[0msteps_per_execution\u001b[0m\u001b[1;33m.\u001b[0m\u001b[0mnumpy\u001b[0m\u001b[1;33m(\u001b[0m\u001b[1;33m)\u001b[0m\u001b[1;33m.\u001b[0m\u001b[0mitem\u001b[0m\u001b[1;33m(\u001b[0m\u001b[1;33m)\u001b[0m\u001b[1;33m\u001b[0m\u001b[1;33m\u001b[0m\u001b[0m\n\u001b[0m\u001b[0;32m   1103\u001b[0m \u001b[1;33m\u001b[0m\u001b[0m\n\u001b[0;32m   1104\u001b[0m     \u001b[0madapter_cls\u001b[0m \u001b[1;33m=\u001b[0m \u001b[0mselect_data_adapter\u001b[0m\u001b[1;33m(\u001b[0m\u001b[0mx\u001b[0m\u001b[1;33m,\u001b[0m \u001b[0my\u001b[0m\u001b[1;33m)\u001b[0m\u001b[1;33m\u001b[0m\u001b[1;33m\u001b[0m\u001b[0m\n",
      "\u001b[1;32m~\\.conda\\envs\\NEW_TF\\lib\\site-packages\\tensorflow\\python\\ops\\resource_variable_ops.py\u001b[0m in \u001b[0;36mnumpy\u001b[1;34m(self)\u001b[0m\n\u001b[0;32m    606\u001b[0m   \u001b[1;32mdef\u001b[0m \u001b[0mnumpy\u001b[0m\u001b[1;33m(\u001b[0m\u001b[0mself\u001b[0m\u001b[1;33m)\u001b[0m\u001b[1;33m:\u001b[0m\u001b[1;33m\u001b[0m\u001b[1;33m\u001b[0m\u001b[0m\n\u001b[0;32m    607\u001b[0m     \u001b[1;32mif\u001b[0m \u001b[0mcontext\u001b[0m\u001b[1;33m.\u001b[0m\u001b[0mexecuting_eagerly\u001b[0m\u001b[1;33m(\u001b[0m\u001b[1;33m)\u001b[0m\u001b[1;33m:\u001b[0m\u001b[1;33m\u001b[0m\u001b[1;33m\u001b[0m\u001b[0m\n\u001b[1;32m--> 608\u001b[1;33m       \u001b[1;32mreturn\u001b[0m \u001b[0mself\u001b[0m\u001b[1;33m.\u001b[0m\u001b[0mread_value\u001b[0m\u001b[1;33m(\u001b[0m\u001b[1;33m)\u001b[0m\u001b[1;33m.\u001b[0m\u001b[0mnumpy\u001b[0m\u001b[1;33m(\u001b[0m\u001b[1;33m)\u001b[0m\u001b[1;33m\u001b[0m\u001b[1;33m\u001b[0m\u001b[0m\n\u001b[0m\u001b[0;32m    609\u001b[0m     raise NotImplementedError(\n\u001b[0;32m    610\u001b[0m         \"numpy() is only available when eager execution is enabled.\")\n",
      "\u001b[1;32m~\\.conda\\envs\\NEW_TF\\lib\\site-packages\\tensorflow\\python\\framework\\ops.py\u001b[0m in \u001b[0;36mnumpy\u001b[1;34m(self)\u001b[0m\n\u001b[0;32m   1061\u001b[0m     \"\"\"\n\u001b[0;32m   1062\u001b[0m     \u001b[1;31m# TODO(slebedev): Consider avoiding a copy for non-CPU or remote tensors.\u001b[0m\u001b[1;33m\u001b[0m\u001b[1;33m\u001b[0m\u001b[1;33m\u001b[0m\u001b[0m\n\u001b[1;32m-> 1063\u001b[1;33m     \u001b[0mmaybe_arr\u001b[0m \u001b[1;33m=\u001b[0m \u001b[0mself\u001b[0m\u001b[1;33m.\u001b[0m\u001b[0m_numpy\u001b[0m\u001b[1;33m(\u001b[0m\u001b[1;33m)\u001b[0m  \u001b[1;31m# pylint: disable=protected-access\u001b[0m\u001b[1;33m\u001b[0m\u001b[1;33m\u001b[0m\u001b[0m\n\u001b[0m\u001b[0;32m   1064\u001b[0m     \u001b[1;32mreturn\u001b[0m \u001b[0mmaybe_arr\u001b[0m\u001b[1;33m.\u001b[0m\u001b[0mcopy\u001b[0m\u001b[1;33m(\u001b[0m\u001b[1;33m)\u001b[0m \u001b[1;32mif\u001b[0m \u001b[0misinstance\u001b[0m\u001b[1;33m(\u001b[0m\u001b[0mmaybe_arr\u001b[0m\u001b[1;33m,\u001b[0m \u001b[0mnp\u001b[0m\u001b[1;33m.\u001b[0m\u001b[0mndarray\u001b[0m\u001b[1;33m)\u001b[0m \u001b[1;32melse\u001b[0m \u001b[0mmaybe_arr\u001b[0m\u001b[1;33m\u001b[0m\u001b[1;33m\u001b[0m\u001b[0m\n\u001b[0;32m   1065\u001b[0m \u001b[1;33m\u001b[0m\u001b[0m\n",
      "\u001b[1;32m~\\.conda\\envs\\NEW_TF\\lib\\site-packages\\tensorflow\\python\\framework\\ops.py\u001b[0m in \u001b[0;36m_numpy\u001b[1;34m(self)\u001b[0m\n\u001b[0;32m   1029\u001b[0m       \u001b[1;32mreturn\u001b[0m \u001b[0mself\u001b[0m\u001b[1;33m.\u001b[0m\u001b[0m_numpy_internal\u001b[0m\u001b[1;33m(\u001b[0m\u001b[1;33m)\u001b[0m\u001b[1;33m\u001b[0m\u001b[1;33m\u001b[0m\u001b[0m\n\u001b[0;32m   1030\u001b[0m     \u001b[1;32mexcept\u001b[0m \u001b[0mcore\u001b[0m\u001b[1;33m.\u001b[0m\u001b[0m_NotOkStatusException\u001b[0m \u001b[1;32mas\u001b[0m \u001b[0me\u001b[0m\u001b[1;33m:\u001b[0m  \u001b[1;31m# pylint: disable=protected-access\u001b[0m\u001b[1;33m\u001b[0m\u001b[1;33m\u001b[0m\u001b[0m\n\u001b[1;32m-> 1031\u001b[1;33m       \u001b[0msix\u001b[0m\u001b[1;33m.\u001b[0m\u001b[0mraise_from\u001b[0m\u001b[1;33m(\u001b[0m\u001b[0mcore\u001b[0m\u001b[1;33m.\u001b[0m\u001b[0m_status_to_exception\u001b[0m\u001b[1;33m(\u001b[0m\u001b[0me\u001b[0m\u001b[1;33m.\u001b[0m\u001b[0mcode\u001b[0m\u001b[1;33m,\u001b[0m \u001b[0me\u001b[0m\u001b[1;33m.\u001b[0m\u001b[0mmessage\u001b[0m\u001b[1;33m)\u001b[0m\u001b[1;33m,\u001b[0m \u001b[1;32mNone\u001b[0m\u001b[1;33m)\u001b[0m  \u001b[1;31m# pylint: disable=protected-access\u001b[0m\u001b[1;33m\u001b[0m\u001b[1;33m\u001b[0m\u001b[0m\n\u001b[0m\u001b[0;32m   1032\u001b[0m \u001b[1;33m\u001b[0m\u001b[0m\n\u001b[0;32m   1033\u001b[0m   \u001b[1;33m@\u001b[0m\u001b[0mproperty\u001b[0m\u001b[1;33m\u001b[0m\u001b[1;33m\u001b[0m\u001b[0m\n",
      "\u001b[1;32m~\\.conda\\envs\\NEW_TF\\lib\\site-packages\\six.py\u001b[0m in \u001b[0;36mraise_from\u001b[1;34m(value, from_value)\u001b[0m\n",
      "\u001b[1;31mInternalError\u001b[0m: GPU sync failed"
     ]
    }
   ],
   "source": [
    "import random\n",
    "print(\"HelperBot: Hi How may I help you?\")\n",
    "while(1):\n",
    "    user_input = input(\"Me:\")\n",
    "    predicted_result = model_load.predict([user_input])\n",
    "    class_output = predicted_result.argmax()\n",
    "    #print(class_output)\n",
    "    #print(f\"The class is {output_df[output_df['class'] == class_output ]['tag']}\")\n",
    "    response = random.sample(output_df[output_df['class'] ==class_output]['responses'].to_list()[0],1)\n",
    "    \n",
    "    print(f\"HelperBot: {response[0]}\\n\")\n",
    "    \n",
    "    if (output_df[output_df['class'] == class_output ]['tag'].to_list()[0] == \"goodbye\"):\n",
    "        break\n",
    "    if(output_df[output_df['class'] == class_output ]['tag'].to_list()[0] == \"CancerRisk\"):\n",
    "        checkBreastCancerRisk()"
   ]
  },
  {
   "cell_type": "code",
   "execution_count": null,
   "id": "cbdba90d",
   "metadata": {},
   "outputs": [],
   "source": [
    "\n"
   ]
  }
 ],
 "metadata": {
  "kernelspec": {
   "display_name": "Python 3 (ipykernel)",
   "language": "python",
   "name": "python3"
  },
  "language_info": {
   "codemirror_mode": {
    "name": "ipython",
    "version": 3
   },
   "file_extension": ".py",
   "mimetype": "text/x-python",
   "name": "python",
   "nbconvert_exporter": "python",
   "pygments_lexer": "ipython3",
   "version": "3.7.13"
  }
 },
 "nbformat": 4,
 "nbformat_minor": 5
}
