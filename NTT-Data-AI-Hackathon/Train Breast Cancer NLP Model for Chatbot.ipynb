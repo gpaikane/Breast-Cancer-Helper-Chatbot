{
 "cells": [
  {
   "cell_type": "markdown",
   "id": "2973cd72",
   "metadata": {},
   "source": [
    "# Train Tensorflow Model for Text classification\n",
    "\n",
    "In this notebook we will be creating Tensorflow model for text classifcation which we classy user's queries to appropriate response tags.\n",
    "The model will be saved to be used in the chat box\n",
    "\n"
   ]
  },
  {
   "cell_type": "code",
   "execution_count": 1,
   "id": "30dd569f",
   "metadata": {},
   "outputs": [],
   "source": [
    "import numpy as np\n",
    "import pandas as pd\n",
    "import json\n",
    "import tensorflow as tf"
   ]
  },
  {
   "cell_type": "markdown",
   "id": "fe8cd942",
   "metadata": {},
   "source": [
    "## Data\n",
    "\n",
    "`intents.json` file contains data with input patterns and expected replys, a Tensorflow based classifer  is used to classify the text input from user to these tags and then a random reply is selected for the user\n",
    "\n",
    "\n",
    "Here is an example\n",
    "\n",
    "\n",
    "`\n",
    "    {\"tag\":\"tumor\",\n",
    "    \"patterns\": [\"what is tumor?\", \"What is lump?\", \"What is benign tumor?\", \"What is malignant tumor\" ],\n",
    "    \"responses\":[\"A tumor or lump is any abnormal mass of tissue or swelling. Like a cyst, a tumor can form in any part of the body. A tumor can be benign or cancerous (malignant), A benign tumor has distinct, smooth, regular borders. A malignant tumor has irregular borders and grows faster than a benign tumor. \\n A malignant tumor can also spread to other parts of your body. A benign tumor can become quite large, but it will not invade nearby tissue or spread to other parts of your body.\"]\n",
    "    },`\n",
    "    \n",
    "    \n",
    "All the responses and pattens are related to Breast cancer and have been taken from online cancer forums and other cancer related sites.\n",
    "\n",
    "Finally the classification model will be saved and will be used by Chatbot App in `Main Breast Cancer Helper Chatbox` jupyter notebook\n"
   ]
  },
  {
   "cell_type": "code",
   "execution_count": 2,
   "id": "ac1a763a",
   "metadata": {},
   "outputs": [],
   "source": [
    "#load json data\n",
    "intents = json.loads(open('data/chatbot_intents/intents.json').read())"
   ]
  },
  {
   "cell_type": "code",
   "execution_count": 3,
   "id": "3200f479",
   "metadata": {},
   "outputs": [],
   "source": [
    "complete_data = {}\n",
    "complete_data[\"tag\"] =[]\n",
    "complete_data[\"patterns\"] = []\n"
   ]
  },
  {
   "cell_type": "code",
   "execution_count": 4,
   "id": "962a28e0",
   "metadata": {},
   "outputs": [],
   "source": [
    "for intent in intents[\"intents\"]:\n",
    "    tag =  intent['tag']\n",
    "    resp = intent['responses']\n",
    "    for pat in intent[\"patterns\"]:\n",
    "        complete_data[\"tag\"].append(tag)\n",
    "        complete_data[\"patterns\"].append(pat)\n",
    "        "
   ]
  },
  {
   "cell_type": "code",
   "execution_count": 5,
   "id": "0d62c165",
   "metadata": {},
   "outputs": [],
   "source": [
    "# convert intents data to Data frame\n",
    "input_df = pd.DataFrame(complete_data)"
   ]
  },
  {
   "cell_type": "code",
   "execution_count": 6,
   "id": "0c82d70c",
   "metadata": {},
   "outputs": [],
   "source": [
    "# Encode the tags  to form classes\n",
    "from sklearn.preprocessing import LabelEncoder\n",
    "lbEncode = LabelEncoder()\n",
    "\n",
    "input_df[\"class\"] = lbEncode.fit_transform(input_df[\"tag\"])"
   ]
  },
  {
   "cell_type": "code",
   "execution_count": 7,
   "id": "89fedcb3",
   "metadata": {},
   "outputs": [
    {
     "data": {
      "text/html": [
       "<div>\n",
       "<style scoped>\n",
       "    .dataframe tbody tr th:only-of-type {\n",
       "        vertical-align: middle;\n",
       "    }\n",
       "\n",
       "    .dataframe tbody tr th {\n",
       "        vertical-align: top;\n",
       "    }\n",
       "\n",
       "    .dataframe thead th {\n",
       "        text-align: right;\n",
       "    }\n",
       "</style>\n",
       "<table border=\"1\" class=\"dataframe\">\n",
       "  <thead>\n",
       "    <tr style=\"text-align: right;\">\n",
       "      <th></th>\n",
       "      <th>tag</th>\n",
       "      <th>patterns</th>\n",
       "      <th>class</th>\n",
       "    </tr>\n",
       "  </thead>\n",
       "  <tbody>\n",
       "    <tr>\n",
       "      <th>0</th>\n",
       "      <td>greetings</td>\n",
       "      <td>hello</td>\n",
       "      <td>9</td>\n",
       "    </tr>\n",
       "    <tr>\n",
       "      <th>1</th>\n",
       "      <td>greetings</td>\n",
       "      <td>hey</td>\n",
       "      <td>9</td>\n",
       "    </tr>\n",
       "    <tr>\n",
       "      <th>2</th>\n",
       "      <td>greetings</td>\n",
       "      <td>hi</td>\n",
       "      <td>9</td>\n",
       "    </tr>\n",
       "    <tr>\n",
       "      <th>3</th>\n",
       "      <td>greetings</td>\n",
       "      <td>hi buddy</td>\n",
       "      <td>9</td>\n",
       "    </tr>\n",
       "    <tr>\n",
       "      <th>4</th>\n",
       "      <td>greetings</td>\n",
       "      <td>good day</td>\n",
       "      <td>9</td>\n",
       "    </tr>\n",
       "  </tbody>\n",
       "</table>\n",
       "</div>"
      ],
      "text/plain": [
       "         tag  patterns  class\n",
       "0  greetings     hello      9\n",
       "1  greetings       hey      9\n",
       "2  greetings        hi      9\n",
       "3  greetings  hi buddy      9\n",
       "4  greetings  good day      9"
      ]
     },
     "execution_count": 7,
     "metadata": {},
     "output_type": "execute_result"
    }
   ],
   "source": [
    "input_df.head()"
   ]
  },
  {
   "cell_type": "markdown",
   "id": "bf427355",
   "metadata": {},
   "source": [
    "`input_df` contains inputs  `pattens` and `class`. `class` is created by label encoding `tag`.\n",
    "`pattens` are question which can be asked by user. Chatbot doesn't need user to add exactly same questions given in `pattern` but they are used for training classifier.\n"
   ]
  },
  {
   "cell_type": "code",
   "execution_count": 8,
   "id": "fea533cc",
   "metadata": {},
   "outputs": [],
   "source": [
    "output_data = {}\n",
    "output_data[\"tag\"] =[]\n",
    "output_data[\"responses\"] = []\n",
    "\n",
    "\n",
    "for intent in intents[\"intents\"]:\n",
    "    output_data[\"tag\"].append(intent['tag'])\n",
    "    output_data[\"responses\"].append(intent['responses'])"
   ]
  },
  {
   "cell_type": "code",
   "execution_count": 9,
   "id": "5769ccaf",
   "metadata": {},
   "outputs": [],
   "source": [
    "# create output data frame with responses\n",
    "output_df = pd.DataFrame(output_data)\n"
   ]
  },
  {
   "cell_type": "code",
   "execution_count": 10,
   "id": "f015b10e",
   "metadata": {},
   "outputs": [],
   "source": [
    "output_df[\"class\"] =  lbEncode.transform(output_df[\"tag\"])"
   ]
  },
  {
   "cell_type": "code",
   "execution_count": 11,
   "id": "58241642",
   "metadata": {},
   "outputs": [
    {
     "data": {
      "text/html": [
       "<div>\n",
       "<style scoped>\n",
       "    .dataframe tbody tr th:only-of-type {\n",
       "        vertical-align: middle;\n",
       "    }\n",
       "\n",
       "    .dataframe tbody tr th {\n",
       "        vertical-align: top;\n",
       "    }\n",
       "\n",
       "    .dataframe thead th {\n",
       "        text-align: right;\n",
       "    }\n",
       "</style>\n",
       "<table border=\"1\" class=\"dataframe\">\n",
       "  <thead>\n",
       "    <tr style=\"text-align: right;\">\n",
       "      <th></th>\n",
       "      <th>tag</th>\n",
       "      <th>responses</th>\n",
       "      <th>class</th>\n",
       "    </tr>\n",
       "  </thead>\n",
       "  <tbody>\n",
       "    <tr>\n",
       "      <th>0</th>\n",
       "      <td>greetings</td>\n",
       "      <td>[Hello, Hey!, What can I do for you?]</td>\n",
       "      <td>9</td>\n",
       "    </tr>\n",
       "    <tr>\n",
       "      <th>1</th>\n",
       "      <td>goodbye</td>\n",
       "      <td>[Sad to see you go :(, Talk to you later, Good...</td>\n",
       "      <td>8</td>\n",
       "    </tr>\n",
       "    <tr>\n",
       "      <th>2</th>\n",
       "      <td>cancerInfo</td>\n",
       "      <td>[A disease in which abnormal cells divide unco...</td>\n",
       "      <td>5</td>\n",
       "    </tr>\n",
       "    <tr>\n",
       "      <th>3</th>\n",
       "      <td>BreastcancerInfo</td>\n",
       "      <td>[When cells divide uncontrollably in Breast an...</td>\n",
       "      <td>0</td>\n",
       "    </tr>\n",
       "    <tr>\n",
       "      <th>4</th>\n",
       "      <td>tumor</td>\n",
       "      <td>[A tumor or lump is any abnormal mass of tissu...</td>\n",
       "      <td>10</td>\n",
       "    </tr>\n",
       "  </tbody>\n",
       "</table>\n",
       "</div>"
      ],
      "text/plain": [
       "                tag                                          responses  class\n",
       "0         greetings              [Hello, Hey!, What can I do for you?]      9\n",
       "1           goodbye  [Sad to see you go :(, Talk to you later, Good...      8\n",
       "2        cancerInfo  [A disease in which abnormal cells divide unco...      5\n",
       "3  BreastcancerInfo  [When cells divide uncontrollably in Breast an...      0\n",
       "4             tumor  [A tumor or lump is any abnormal mass of tissu...     10"
      ]
     },
     "execution_count": 11,
     "metadata": {},
     "output_type": "execute_result"
    }
   ],
   "source": [
    "output_df.head()"
   ]
  },
  {
   "cell_type": "markdown",
   "id": "6b65801d",
   "metadata": {},
   "source": [
    "`output_df` is contains all the fileds of `input_df` and one additional filed of `responses`.  Once the classifier classifies the class, one of the response from the corresponding responses will be taken and displayed to the user."
   ]
  },
  {
   "cell_type": "code",
   "execution_count": 12,
   "id": "0e4becf5",
   "metadata": {},
   "outputs": [],
   "source": [
    "output_df.to_json(\"save_replys_dataframe/output_df.json\")"
   ]
  },
  {
   "cell_type": "code",
   "execution_count": 13,
   "id": "528c9877",
   "metadata": {},
   "outputs": [
    {
     "data": {
      "text/plain": [
       "11"
      ]
     },
     "execution_count": 13,
     "metadata": {},
     "output_type": "execute_result"
    }
   ],
   "source": [
    "# Number of classes\n",
    "max(input_df['class'])+1"
   ]
  },
  {
   "cell_type": "markdown",
   "id": "04d65655",
   "metadata": {},
   "source": [
    "## Modelling"
   ]
  },
  {
   "cell_type": "code",
   "execution_count": 14,
   "id": "d282080f",
   "metadata": {
    "scrolled": true
   },
   "outputs": [],
   "source": [
    "# download universal sentence encoder layer or text encoding from tensorflow hub\n",
    "import tensorflow_hub as hub\n",
    "\n",
    "sentence_encoder_layer = hub.KerasLayer(\"https://tfhub.dev/google/universal-sentence-encoder/4\",\n",
    "                                       input_shape=[],\n",
    "                                       dtype = \"string\",\n",
    "                                       trainable = False,\n",
    "                                       name=\"USE\")"
   ]
  },
  {
   "cell_type": "code",
   "execution_count": 15,
   "id": "7f65e15a",
   "metadata": {},
   "outputs": [],
   "source": [
    "# Create a TF model for Text classification\n",
    "from tensorflow.keras import layers\n",
    "import tensorflow as tf\n",
    "\n",
    "model = tf.keras.Sequential([\n",
    "    sentence_encoder_layer, \n",
    "    layers.Reshape((1,512)),\n",
    "    layers.LSTM(64),\n",
    "    layers.Dense(64, activation = \"relu\"),\n",
    "    layers.Dense(max(input_df['class'])+1, activation = \"softmax\")\n",
    "], name = \"model_USE\")"
   ]
  },
  {
   "cell_type": "code",
   "execution_count": 16,
   "id": "ed980040",
   "metadata": {
    "scrolled": true
   },
   "outputs": [
    {
     "name": "stdout",
     "output_type": "stream",
     "text": [
      "Epoch 1/70\n",
      "2/2 [==============================] - 0s 8ms/step - loss: 2.3937 - accuracy: 0.1875\n",
      "Epoch 2/70\n",
      "2/2 [==============================] - 0s 7ms/step - loss: 2.3789 - accuracy: 0.2708\n",
      "Epoch 3/70\n",
      "2/2 [==============================] - 0s 6ms/step - loss: 2.3639 - accuracy: 0.3125\n",
      "Epoch 4/70\n",
      "2/2 [==============================] - 0s 5ms/step - loss: 2.3491 - accuracy: 0.4167\n",
      "Epoch 5/70\n",
      "2/2 [==============================] - 0s 5ms/step - loss: 2.3321 - accuracy: 0.5000\n",
      "Epoch 6/70\n",
      "2/2 [==============================] - 0s 5ms/step - loss: 2.3127 - accuracy: 0.5417\n",
      "Epoch 7/70\n",
      "2/2 [==============================] - 0s 5ms/step - loss: 2.2926 - accuracy: 0.5625\n",
      "Epoch 8/70\n",
      "2/2 [==============================] - 0s 4ms/step - loss: 2.2692 - accuracy: 0.5833\n",
      "Epoch 9/70\n",
      "2/2 [==============================] - 0s 5ms/step - loss: 2.2441 - accuracy: 0.5833\n",
      "Epoch 10/70\n",
      "2/2 [==============================] - 0s 5ms/step - loss: 2.2166 - accuracy: 0.5625\n",
      "Epoch 11/70\n",
      "2/2 [==============================] - 0s 5ms/step - loss: 2.1857 - accuracy: 0.6042\n",
      "Epoch 12/70\n",
      "2/2 [==============================] - 0s 5ms/step - loss: 2.1520 - accuracy: 0.6250\n",
      "Epoch 13/70\n",
      "2/2 [==============================] - 0s 5ms/step - loss: 2.1175 - accuracy: 0.6250\n",
      "Epoch 14/70\n",
      "2/2 [==============================] - 0s 5ms/step - loss: 2.0747 - accuracy: 0.6250\n",
      "Epoch 15/70\n",
      "2/2 [==============================] - 0s 4ms/step - loss: 2.0319 - accuracy: 0.6250\n",
      "Epoch 16/70\n",
      "2/2 [==============================] - 0s 4ms/step - loss: 1.9884 - accuracy: 0.6042\n",
      "Epoch 17/70\n",
      "2/2 [==============================] - 0s 5ms/step - loss: 1.9379 - accuracy: 0.6250\n",
      "Epoch 18/70\n",
      "2/2 [==============================] - 0s 4ms/step - loss: 1.8859 - accuracy: 0.6250\n",
      "Epoch 19/70\n",
      "2/2 [==============================] - 0s 5ms/step - loss: 1.8331 - accuracy: 0.6250\n",
      "Epoch 20/70\n",
      "2/2 [==============================] - 0s 5ms/step - loss: 1.7783 - accuracy: 0.6250\n",
      "Epoch 21/70\n",
      "2/2 [==============================] - 0s 5ms/step - loss: 1.7216 - accuracy: 0.6250\n",
      "Epoch 22/70\n",
      "2/2 [==============================] - 0s 5ms/step - loss: 1.6685 - accuracy: 0.6250\n",
      "Epoch 23/70\n",
      "2/2 [==============================] - 0s 5ms/step - loss: 1.6166 - accuracy: 0.6250\n",
      "Epoch 24/70\n",
      "2/2 [==============================] - 0s 4ms/step - loss: 1.5627 - accuracy: 0.6250\n",
      "Epoch 25/70\n",
      "2/2 [==============================] - 0s 4ms/step - loss: 1.5107 - accuracy: 0.6250\n",
      "Epoch 26/70\n",
      "2/2 [==============================] - 0s 5ms/step - loss: 1.4588 - accuracy: 0.6250\n",
      "Epoch 27/70\n",
      "2/2 [==============================] - 0s 5ms/step - loss: 1.4104 - accuracy: 0.6667\n",
      "Epoch 28/70\n",
      "2/2 [==============================] - 0s 5ms/step - loss: 1.3603 - accuracy: 0.6667\n",
      "Epoch 29/70\n",
      "2/2 [==============================] - 0s 5ms/step - loss: 1.3147 - accuracy: 0.6667\n",
      "Epoch 30/70\n",
      "2/2 [==============================] - 0s 5ms/step - loss: 1.2665 - accuracy: 0.7083\n",
      "Epoch 31/70\n",
      "2/2 [==============================] - 0s 5ms/step - loss: 1.2207 - accuracy: 0.7500\n",
      "Epoch 32/70\n",
      "2/2 [==============================] - 0s 5ms/step - loss: 1.1735 - accuracy: 0.7500\n",
      "Epoch 33/70\n",
      "2/2 [==============================] - 0s 5ms/step - loss: 1.1304 - accuracy: 0.7500\n",
      "Epoch 34/70\n",
      "2/2 [==============================] - 0s 4ms/step - loss: 1.0843 - accuracy: 0.7917\n",
      "Epoch 35/70\n",
      "2/2 [==============================] - 0s 5ms/step - loss: 1.0436 - accuracy: 0.8125\n",
      "Epoch 36/70\n",
      "2/2 [==============================] - 0s 4ms/step - loss: 0.9989 - accuracy: 0.8125\n",
      "Epoch 37/70\n",
      "2/2 [==============================] - 0s 4ms/step - loss: 0.9553 - accuracy: 0.8125\n",
      "Epoch 38/70\n",
      "2/2 [==============================] - 0s 5ms/step - loss: 0.9135 - accuracy: 0.8125\n",
      "Epoch 39/70\n",
      "2/2 [==============================] - 0s 5ms/step - loss: 0.8729 - accuracy: 0.8125\n",
      "Epoch 40/70\n",
      "2/2 [==============================] - 0s 5ms/step - loss: 0.8336 - accuracy: 0.8125\n",
      "Epoch 41/70\n",
      "2/2 [==============================] - 0s 5ms/step - loss: 0.7935 - accuracy: 0.8542\n",
      "Epoch 42/70\n",
      "2/2 [==============================] - 0s 5ms/step - loss: 0.7562 - accuracy: 0.8542\n",
      "Epoch 43/70\n",
      "2/2 [==============================] - 0s 5ms/step - loss: 0.7175 - accuracy: 0.8958\n",
      "Epoch 44/70\n",
      "2/2 [==============================] - 0s 4ms/step - loss: 0.6818 - accuracy: 0.9167\n",
      "Epoch 45/70\n",
      "2/2 [==============================] - 0s 5ms/step - loss: 0.6449 - accuracy: 0.9167\n",
      "Epoch 46/70\n",
      "2/2 [==============================] - 0s 5ms/step - loss: 0.6110 - accuracy: 0.9167\n",
      "Epoch 47/70\n",
      "2/2 [==============================] - 0s 5ms/step - loss: 0.5789 - accuracy: 0.9167\n",
      "Epoch 48/70\n",
      "2/2 [==============================] - 0s 5ms/step - loss: 0.5468 - accuracy: 0.9167\n",
      "Epoch 49/70\n",
      "2/2 [==============================] - 0s 5ms/step - loss: 0.5173 - accuracy: 0.9375\n",
      "Epoch 50/70\n",
      "2/2 [==============================] - 0s 5ms/step - loss: 0.4897 - accuracy: 0.9167\n",
      "Epoch 51/70\n",
      "2/2 [==============================] - 0s 4ms/step - loss: 0.4610 - accuracy: 0.9167\n",
      "Epoch 52/70\n",
      "2/2 [==============================] - 0s 5ms/step - loss: 0.4350 - accuracy: 0.9167\n",
      "Epoch 53/70\n",
      "2/2 [==============================] - 0s 5ms/step - loss: 0.4096 - accuracy: 0.9167\n",
      "Epoch 54/70\n",
      "2/2 [==============================] - 0s 5ms/step - loss: 0.3864 - accuracy: 0.9375\n",
      "Epoch 55/70\n",
      "2/2 [==============================] - 0s 5ms/step - loss: 0.3638 - accuracy: 0.9375\n",
      "Epoch 56/70\n",
      "2/2 [==============================] - 0s 5ms/step - loss: 0.3434 - accuracy: 0.9375\n",
      "Epoch 57/70\n",
      "2/2 [==============================] - 0s 6ms/step - loss: 0.3230 - accuracy: 0.9792\n",
      "Epoch 58/70\n",
      "2/2 [==============================] - 0s 5ms/step - loss: 0.3042 - accuracy: 0.9583\n",
      "Epoch 59/70\n",
      "2/2 [==============================] - 0s 5ms/step - loss: 0.2859 - accuracy: 0.9792\n",
      "Epoch 60/70\n",
      "2/2 [==============================] - 0s 5ms/step - loss: 0.2697 - accuracy: 0.9792\n",
      "Epoch 61/70\n",
      "2/2 [==============================] - 0s 5ms/step - loss: 0.2555 - accuracy: 0.9792\n",
      "Epoch 62/70\n",
      "2/2 [==============================] - 0s 5ms/step - loss: 0.2407 - accuracy: 0.9792\n",
      "Epoch 63/70\n",
      "2/2 [==============================] - 0s 5ms/step - loss: 0.2274 - accuracy: 1.0000\n",
      "Epoch 64/70\n",
      "2/2 [==============================] - 0s 5ms/step - loss: 0.2138 - accuracy: 0.9792\n",
      "Epoch 65/70\n",
      "2/2 [==============================] - 0s 5ms/step - loss: 0.2038 - accuracy: 0.9792\n",
      "Epoch 66/70\n",
      "2/2 [==============================] - 0s 5ms/step - loss: 0.1929 - accuracy: 0.9792\n",
      "Epoch 67/70\n",
      "2/2 [==============================] - 0s 4ms/step - loss: 0.1825 - accuracy: 0.9792\n",
      "Epoch 68/70\n",
      "2/2 [==============================] - 0s 5ms/step - loss: 0.1735 - accuracy: 0.9792\n",
      "Epoch 69/70\n",
      "2/2 [==============================] - 0s 5ms/step - loss: 0.1653 - accuracy: 0.9792\n",
      "Epoch 70/70\n",
      "2/2 [==============================] - 0s 5ms/step - loss: 0.1573 - accuracy: 0.9792\n"
     ]
    },
    {
     "data": {
      "text/plain": [
       "<tensorflow.python.keras.callbacks.History at 0x2a5f95583c8>"
      ]
     },
     "execution_count": 16,
     "metadata": {},
     "output_type": "execute_result"
    }
   ],
   "source": [
    "# compile and fit the model\n",
    "model.compile(loss=tf.losses.sparse_categorical_crossentropy,\n",
    "               optimizer='Adam',\n",
    "               metrics = [\"accuracy\"])\n",
    "                \n",
    "model.fit(x=input_df['patterns'],\n",
    "           y=input_df['class'],\n",
    "           epochs=70)"
   ]
  },
  {
   "cell_type": "markdown",
   "id": "c5409eee",
   "metadata": {},
   "source": [
    "## Save Model"
   ]
  },
  {
   "cell_type": "code",
   "execution_count": 17,
   "id": "f71bb5e0",
   "metadata": {},
   "outputs": [],
   "source": [
    "# save the text classifier model\n",
    "model.save(\"models/NLP_model.h5\")\n"
   ]
  },
  {
   "cell_type": "code",
   "execution_count": 18,
   "id": "53102d9f",
   "metadata": {},
   "outputs": [
    {
     "name": "stdout",
     "output_type": "stream",
     "text": [
      "Model: \"model_USE\"\n",
      "_________________________________________________________________\n",
      "Layer (type)                 Output Shape              Param #   \n",
      "=================================================================\n",
      "USE (KerasLayer)             (None, 512)               256797824 \n",
      "_________________________________________________________________\n",
      "reshape (Reshape)            (None, 1, 512)            0         \n",
      "_________________________________________________________________\n",
      "lstm (LSTM)                  (None, 64)                147712    \n",
      "_________________________________________________________________\n",
      "dense (Dense)                (None, 64)                4160      \n",
      "_________________________________________________________________\n",
      "dense_1 (Dense)              (None, 11)                715       \n",
      "=================================================================\n",
      "Total params: 256,950,411\n",
      "Trainable params: 152,587\n",
      "Non-trainable params: 256,797,824\n",
      "_________________________________________________________________\n"
     ]
    }
   ],
   "source": [
    "model.summary()"
   ]
  },
  {
   "cell_type": "code",
   "execution_count": null,
   "id": "1954132f",
   "metadata": {},
   "outputs": [],
   "source": []
  }
 ],
 "metadata": {
  "kernelspec": {
   "display_name": "Python 3 (ipykernel)",
   "language": "python",
   "name": "python3"
  },
  "language_info": {
   "codemirror_mode": {
    "name": "ipython",
    "version": 3
   },
   "file_extension": ".py",
   "mimetype": "text/x-python",
   "name": "python",
   "nbconvert_exporter": "python",
   "pygments_lexer": "ipython3",
   "version": "3.7.13"
  }
 },
 "nbformat": 4,
 "nbformat_minor": 5
}
