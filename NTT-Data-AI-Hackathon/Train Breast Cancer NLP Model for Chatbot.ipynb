{
 "cells": [
  {
   "cell_type": "markdown",
   "id": "2973cd72",
   "metadata": {},
   "source": [
    "# Train Tensorflow Model for Text classification\n",
    "\n",
    "In this notebook we will be creating Tensorflow model for text classifcation which we classy user's queries to appropriate response tags.\n",
    "The model will be saved to be used in the chat box\n",
    "\n"
   ]
  },
  {
   "cell_type": "code",
   "execution_count": 1,
   "id": "30dd569f",
   "metadata": {},
   "outputs": [],
   "source": [
    "import numpy as np\n",
    "import pandas as pd\n",
    "import json\n",
    "import tensorflow as tf"
   ]
  },
  {
   "cell_type": "markdown",
   "id": "fe8cd942",
   "metadata": {},
   "source": [
    "## Data\n",
    "\n",
    "`intents.json` file contains data with input patterns and expected replys, a Tensorflow based classifer  is used to classify the text input from user to these tags and then a random reply is selected for the user\n",
    "\n",
    "\n",
    "Here is an example\n",
    "\n",
    "\n",
    "`\n",
    "    {\"tag\":\"tumor\",\n",
    "    \"patterns\": [\"what is tumor?\", \"What is lump?\", \"What is benign tumor?\", \"What is malignant tumor\" ],\n",
    "    \"responses\":[\"A tumor or lump is any abnormal mass of tissue or swelling. Like a cyst, a tumor can form in any part of the body. A tumor can be benign or cancerous (malignant), A benign tumor has distinct, smooth, regular borders. A malignant tumor has irregular borders and grows faster than a benign tumor. \\n A malignant tumor can also spread to other parts of your body. A benign tumor can become quite large, but it will not invade nearby tissue or spread to other parts of your body.\"]\n",
    "    },`\n",
    "    \n",
    "    \n",
    "All the responses and pattens are related to Breast cancer and have been taken from online cancer forums and other cancer related sites.\n",
    "\n",
    "Finally the classification model will be saved and will be used by Chatbot App in `Main Breast Cancer Helper Chatbox` jupyter notebook\n"
   ]
  },
  {
   "cell_type": "code",
   "execution_count": 2,
   "id": "ac1a763a",
   "metadata": {},
   "outputs": [],
   "source": [
    "#load json data\n",
    "intents = json.loads(open('data/chatbot_intents/intents.json').read())"
   ]
  },
  {
   "cell_type": "code",
   "execution_count": 3,
   "id": "3200f479",
   "metadata": {},
   "outputs": [],
   "source": [
    "complete_data = {}\n",
    "complete_data[\"tag\"] =[]\n",
    "complete_data[\"patterns\"] = []\n"
   ]
  },
  {
   "cell_type": "code",
   "execution_count": 4,
   "id": "962a28e0",
   "metadata": {},
   "outputs": [],
   "source": [
    "for intent in intents[\"intents\"]:\n",
    "    tag =  intent['tag']\n",
    "    resp = intent['responses']\n",
    "    for pat in intent[\"patterns\"]:\n",
    "        complete_data[\"tag\"].append(tag)\n",
    "        complete_data[\"patterns\"].append(pat)\n",
    "        "
   ]
  },
  {
   "cell_type": "code",
   "execution_count": 5,
   "id": "0d62c165",
   "metadata": {},
   "outputs": [],
   "source": [
    "# convert intents data to Data frame\n",
    "input_df = pd.DataFrame(complete_data)"
   ]
  },
  {
   "cell_type": "code",
   "execution_count": 6,
   "id": "0c82d70c",
   "metadata": {},
   "outputs": [],
   "source": [
    "# Encode the tags  to form classes\n",
    "from sklearn.preprocessing import LabelEncoder\n",
    "lbEncode = LabelEncoder()\n",
    "\n",
    "input_df[\"class\"] = lbEncode.fit_transform(input_df[\"tag\"])"
   ]
  },
  {
   "cell_type": "code",
   "execution_count": 7,
   "id": "89fedcb3",
   "metadata": {},
   "outputs": [
    {
     "data": {
      "text/html": [
       "<div>\n",
       "<style scoped>\n",
       "    .dataframe tbody tr th:only-of-type {\n",
       "        vertical-align: middle;\n",
       "    }\n",
       "\n",
       "    .dataframe tbody tr th {\n",
       "        vertical-align: top;\n",
       "    }\n",
       "\n",
       "    .dataframe thead th {\n",
       "        text-align: right;\n",
       "    }\n",
       "</style>\n",
       "<table border=\"1\" class=\"dataframe\">\n",
       "  <thead>\n",
       "    <tr style=\"text-align: right;\">\n",
       "      <th></th>\n",
       "      <th>tag</th>\n",
       "      <th>patterns</th>\n",
       "      <th>class</th>\n",
       "    </tr>\n",
       "  </thead>\n",
       "  <tbody>\n",
       "    <tr>\n",
       "      <th>0</th>\n",
       "      <td>greetings</td>\n",
       "      <td>hello</td>\n",
       "      <td>11</td>\n",
       "    </tr>\n",
       "    <tr>\n",
       "      <th>1</th>\n",
       "      <td>greetings</td>\n",
       "      <td>hey</td>\n",
       "      <td>11</td>\n",
       "    </tr>\n",
       "    <tr>\n",
       "      <th>2</th>\n",
       "      <td>greetings</td>\n",
       "      <td>hi</td>\n",
       "      <td>11</td>\n",
       "    </tr>\n",
       "    <tr>\n",
       "      <th>3</th>\n",
       "      <td>greetings</td>\n",
       "      <td>hi buddy</td>\n",
       "      <td>11</td>\n",
       "    </tr>\n",
       "    <tr>\n",
       "      <th>4</th>\n",
       "      <td>greetings</td>\n",
       "      <td>good day</td>\n",
       "      <td>11</td>\n",
       "    </tr>\n",
       "  </tbody>\n",
       "</table>\n",
       "</div>"
      ],
      "text/plain": [
       "         tag  patterns  class\n",
       "0  greetings     hello     11\n",
       "1  greetings       hey     11\n",
       "2  greetings        hi     11\n",
       "3  greetings  hi buddy     11\n",
       "4  greetings  good day     11"
      ]
     },
     "execution_count": 7,
     "metadata": {},
     "output_type": "execute_result"
    }
   ],
   "source": [
    "input_df.head()"
   ]
  },
  {
   "cell_type": "markdown",
   "id": "bf427355",
   "metadata": {},
   "source": [
    "`input_df` contains inputs  `pattens` and `class`. `class` is created by label encoding `tag`.\n",
    "`pattens` are question which can be asked by user. Chatbot doesn't need user to add exactly same questions given in `pattern` but they are used for training classifier.\n"
   ]
  },
  {
   "cell_type": "code",
   "execution_count": 8,
   "id": "fea533cc",
   "metadata": {},
   "outputs": [],
   "source": [
    "output_data = {}\n",
    "output_data[\"tag\"] =[]\n",
    "output_data[\"responses\"] = []\n",
    "\n",
    "\n",
    "for intent in intents[\"intents\"]:\n",
    "    output_data[\"tag\"].append(intent['tag'])\n",
    "    output_data[\"responses\"].append(intent['responses'])"
   ]
  },
  {
   "cell_type": "code",
   "execution_count": 9,
   "id": "5769ccaf",
   "metadata": {},
   "outputs": [],
   "source": [
    "# create output data frame with responses\n",
    "output_df = pd.DataFrame(output_data)\n"
   ]
  },
  {
   "cell_type": "code",
   "execution_count": 10,
   "id": "f015b10e",
   "metadata": {},
   "outputs": [],
   "source": [
    "output_df[\"class\"] =  lbEncode.transform(output_df[\"tag\"])"
   ]
  },
  {
   "cell_type": "code",
   "execution_count": 11,
   "id": "58241642",
   "metadata": {},
   "outputs": [
    {
     "data": {
      "text/html": [
       "<div>\n",
       "<style scoped>\n",
       "    .dataframe tbody tr th:only-of-type {\n",
       "        vertical-align: middle;\n",
       "    }\n",
       "\n",
       "    .dataframe tbody tr th {\n",
       "        vertical-align: top;\n",
       "    }\n",
       "\n",
       "    .dataframe thead th {\n",
       "        text-align: right;\n",
       "    }\n",
       "</style>\n",
       "<table border=\"1\" class=\"dataframe\">\n",
       "  <thead>\n",
       "    <tr style=\"text-align: right;\">\n",
       "      <th></th>\n",
       "      <th>tag</th>\n",
       "      <th>responses</th>\n",
       "      <th>class</th>\n",
       "    </tr>\n",
       "  </thead>\n",
       "  <tbody>\n",
       "    <tr>\n",
       "      <th>0</th>\n",
       "      <td>greetings</td>\n",
       "      <td>[Hello, Hey!, What can I do for you?]</td>\n",
       "      <td>11</td>\n",
       "    </tr>\n",
       "    <tr>\n",
       "      <th>1</th>\n",
       "      <td>goodbye</td>\n",
       "      <td>[Talk to you later, Goodbye!]</td>\n",
       "      <td>10</td>\n",
       "    </tr>\n",
       "    <tr>\n",
       "      <th>2</th>\n",
       "      <td>cancerInfo</td>\n",
       "      <td>[A disease in which abnormal cells divide unco...</td>\n",
       "      <td>6</td>\n",
       "    </tr>\n",
       "    <tr>\n",
       "      <th>3</th>\n",
       "      <td>BreastcancerInfo</td>\n",
       "      <td>[When cells divide uncontrollably in Breast an...</td>\n",
       "      <td>0</td>\n",
       "    </tr>\n",
       "    <tr>\n",
       "      <th>4</th>\n",
       "      <td>tumor</td>\n",
       "      <td>[A tumor or lump is any abnormal mass of tissu...</td>\n",
       "      <td>17</td>\n",
       "    </tr>\n",
       "  </tbody>\n",
       "</table>\n",
       "</div>"
      ],
      "text/plain": [
       "                tag                                          responses  class\n",
       "0         greetings              [Hello, Hey!, What can I do for you?]     11\n",
       "1           goodbye                      [Talk to you later, Goodbye!]     10\n",
       "2        cancerInfo  [A disease in which abnormal cells divide unco...      6\n",
       "3  BreastcancerInfo  [When cells divide uncontrollably in Breast an...      0\n",
       "4             tumor  [A tumor or lump is any abnormal mass of tissu...     17"
      ]
     },
     "execution_count": 11,
     "metadata": {},
     "output_type": "execute_result"
    }
   ],
   "source": [
    "output_df.head()"
   ]
  },
  {
   "cell_type": "markdown",
   "id": "6b65801d",
   "metadata": {},
   "source": [
    "`output_df` is contains all the fileds of `input_df` and one additional filed of `responses`.  Once the classifier classifies the class, one of the response from the corresponding responses will be taken and displayed to the user."
   ]
  },
  {
   "cell_type": "code",
   "execution_count": 12,
   "id": "0e4becf5",
   "metadata": {},
   "outputs": [],
   "source": [
    "output_df.to_json(\"save_replys_dataframe/output_df.json\")"
   ]
  },
  {
   "cell_type": "code",
   "execution_count": 13,
   "id": "528c9877",
   "metadata": {},
   "outputs": [
    {
     "data": {
      "text/plain": [
       "19"
      ]
     },
     "execution_count": 13,
     "metadata": {},
     "output_type": "execute_result"
    }
   ],
   "source": [
    "# Number of classes\n",
    "max(input_df['class'])+1"
   ]
  },
  {
   "cell_type": "markdown",
   "id": "04d65655",
   "metadata": {},
   "source": [
    "## Modelling"
   ]
  },
  {
   "cell_type": "code",
   "execution_count": 14,
   "id": "d282080f",
   "metadata": {
    "scrolled": true
   },
   "outputs": [],
   "source": [
    "# download universal sentence encoder layer or text encoding from tensorflow hub\n",
    "import tensorflow_hub as hub\n",
    "\n",
    "sentence_encoder_layer = hub.KerasLayer(\"https://tfhub.dev/google/universal-sentence-encoder/4\",\n",
    "                                       input_shape=[],\n",
    "                                       dtype = \"string\",\n",
    "                                       trainable = False,\n",
    "                                       name=\"USE\")"
   ]
  },
  {
   "cell_type": "code",
   "execution_count": 15,
   "id": "7f65e15a",
   "metadata": {},
   "outputs": [],
   "source": [
    "# Create a TF model for Text classification\n",
    "from tensorflow.keras import layers\n",
    "import tensorflow as tf\n",
    "\n",
    "model = tf.keras.Sequential([\n",
    "    sentence_encoder_layer, \n",
    "    layers.Reshape((1,512)),\n",
    "    layers.LSTM(512),\n",
    "    layers.Dense(64, activation = \"relu\"),\n",
    "    layers.Dropout(rate=0.2),\n",
    "    layers.Dense(64, activation = \"relu\"),\n",
    "    layers.Dropout(rate=0.2),\n",
    "    layers.Dense(max(input_df['class'])+1, activation = \"softmax\")\n",
    "], name = \"model_USE\")"
   ]
  },
  {
   "cell_type": "code",
   "execution_count": 16,
   "id": "ed980040",
   "metadata": {
    "scrolled": true
   },
   "outputs": [
    {
     "name": "stdout",
     "output_type": "stream",
     "text": [
      "Epoch 1/90\n",
      "3/3 [==============================] - 0s 9ms/step - loss: 2.9402 - accuracy: 0.1463\n",
      "Epoch 2/90\n",
      "3/3 [==============================] - 0s 8ms/step - loss: 2.9134 - accuracy: 0.2561\n",
      "Epoch 3/90\n",
      "3/3 [==============================] - 0s 8ms/step - loss: 2.8799 - accuracy: 0.2927\n",
      "Epoch 4/90\n",
      "3/3 [==============================] - 0s 8ms/step - loss: 2.8344 - accuracy: 0.3171\n",
      "Epoch 5/90\n",
      "3/3 [==============================] - 0s 8ms/step - loss: 2.7923 - accuracy: 0.2805\n",
      "Epoch 6/90\n",
      "3/3 [==============================] - 0s 8ms/step - loss: 2.7443 - accuracy: 0.2317\n",
      "Epoch 7/90\n",
      "3/3 [==============================] - 0s 8ms/step - loss: 2.6308 - accuracy: 0.3049\n",
      "Epoch 8/90\n",
      "3/3 [==============================] - 0s 8ms/step - loss: 2.5370 - accuracy: 0.3537\n",
      "Epoch 9/90\n",
      "3/3 [==============================] - 0s 8ms/step - loss: 2.4231 - accuracy: 0.3415\n",
      "Epoch 10/90\n",
      "3/3 [==============================] - 0s 8ms/step - loss: 2.2904 - accuracy: 0.3171\n",
      "Epoch 11/90\n",
      "3/3 [==============================] - 0s 9ms/step - loss: 2.1961 - accuracy: 0.3415\n",
      "Epoch 12/90\n",
      "3/3 [==============================] - 0s 8ms/step - loss: 2.1185 - accuracy: 0.3415\n",
      "Epoch 13/90\n",
      "3/3 [==============================] - 0s 8ms/step - loss: 2.0045 - accuracy: 0.5000\n",
      "Epoch 14/90\n",
      "3/3 [==============================] - 0s 7ms/step - loss: 1.8599 - accuracy: 0.4146\n",
      "Epoch 15/90\n",
      "3/3 [==============================] - 0s 8ms/step - loss: 1.7811 - accuracy: 0.5000\n",
      "Epoch 16/90\n",
      "3/3 [==============================] - 0s 8ms/step - loss: 1.6761 - accuracy: 0.4756\n",
      "Epoch 17/90\n",
      "3/3 [==============================] - 0s 8ms/step - loss: 1.5256 - accuracy: 0.5854\n",
      "Epoch 18/90\n",
      "3/3 [==============================] - 0s 8ms/step - loss: 1.4866 - accuracy: 0.5732\n",
      "Epoch 19/90\n",
      "3/3 [==============================] - 0s 8ms/step - loss: 1.3373 - accuracy: 0.7073\n",
      "Epoch 20/90\n",
      "3/3 [==============================] - 0s 8ms/step - loss: 1.3357 - accuracy: 0.5976\n",
      "Epoch 21/90\n",
      "3/3 [==============================] - 0s 8ms/step - loss: 1.2374 - accuracy: 0.6707\n",
      "Epoch 22/90\n",
      "3/3 [==============================] - 0s 8ms/step - loss: 1.1449 - accuracy: 0.6220\n",
      "Epoch 23/90\n",
      "3/3 [==============================] - 0s 8ms/step - loss: 1.0325 - accuracy: 0.7317\n",
      "Epoch 24/90\n",
      "3/3 [==============================] - 0s 8ms/step - loss: 0.8906 - accuracy: 0.7927\n",
      "Epoch 25/90\n",
      "3/3 [==============================] - 0s 8ms/step - loss: 0.9059 - accuracy: 0.7317\n",
      "Epoch 26/90\n",
      "3/3 [==============================] - 0s 8ms/step - loss: 0.8299 - accuracy: 0.7439\n",
      "Epoch 27/90\n",
      "3/3 [==============================] - 0s 8ms/step - loss: 0.8102 - accuracy: 0.7683\n",
      "Epoch 28/90\n",
      "3/3 [==============================] - 0s 8ms/step - loss: 0.6536 - accuracy: 0.8293\n",
      "Epoch 29/90\n",
      "3/3 [==============================] - 0s 8ms/step - loss: 0.6779 - accuracy: 0.8415\n",
      "Epoch 30/90\n",
      "3/3 [==============================] - 0s 7ms/step - loss: 0.6199 - accuracy: 0.8659\n",
      "Epoch 31/90\n",
      "3/3 [==============================] - 0s 8ms/step - loss: 0.6736 - accuracy: 0.7927\n",
      "Epoch 32/90\n",
      "3/3 [==============================] - 0s 8ms/step - loss: 0.6246 - accuracy: 0.8415\n",
      "Epoch 33/90\n",
      "3/3 [==============================] - 0s 7ms/step - loss: 0.5248 - accuracy: 0.8537\n",
      "Epoch 34/90\n",
      "3/3 [==============================] - 0s 7ms/step - loss: 0.4772 - accuracy: 0.8902\n",
      "Epoch 35/90\n",
      "3/3 [==============================] - 0s 8ms/step - loss: 0.4044 - accuracy: 0.8537\n",
      "Epoch 36/90\n",
      "3/3 [==============================] - 0s 7ms/step - loss: 0.4027 - accuracy: 0.8780\n",
      "Epoch 37/90\n",
      "3/3 [==============================] - 0s 8ms/step - loss: 0.4021 - accuracy: 0.9024\n",
      "Epoch 38/90\n",
      "3/3 [==============================] - 0s 8ms/step - loss: 0.3238 - accuracy: 0.9512\n",
      "Epoch 39/90\n",
      "3/3 [==============================] - 0s 8ms/step - loss: 0.3842 - accuracy: 0.8902\n",
      "Epoch 40/90\n",
      "3/3 [==============================] - 0s 7ms/step - loss: 0.3124 - accuracy: 0.9512\n",
      "Epoch 41/90\n",
      "3/3 [==============================] - 0s 7ms/step - loss: 0.3459 - accuracy: 0.8659\n",
      "Epoch 42/90\n",
      "3/3 [==============================] - 0s 7ms/step - loss: 0.3020 - accuracy: 0.8902\n",
      "Epoch 43/90\n",
      "3/3 [==============================] - 0s 8ms/step - loss: 0.2190 - accuracy: 0.9512\n",
      "Epoch 44/90\n",
      "3/3 [==============================] - 0s 7ms/step - loss: 0.2655 - accuracy: 0.9146\n",
      "Epoch 45/90\n",
      "3/3 [==============================] - 0s 8ms/step - loss: 0.2579 - accuracy: 0.9390\n",
      "Epoch 46/90\n",
      "3/3 [==============================] - 0s 8ms/step - loss: 0.2097 - accuracy: 0.9390\n",
      "Epoch 47/90\n",
      "3/3 [==============================] - 0s 8ms/step - loss: 0.2052 - accuracy: 0.9756\n",
      "Epoch 48/90\n",
      "3/3 [==============================] - 0s 8ms/step - loss: 0.2041 - accuracy: 0.9634\n",
      "Epoch 49/90\n",
      "3/3 [==============================] - 0s 8ms/step - loss: 0.1668 - accuracy: 0.9512\n",
      "Epoch 50/90\n",
      "3/3 [==============================] - 0s 7ms/step - loss: 0.2672 - accuracy: 0.9146\n",
      "Epoch 51/90\n",
      "3/3 [==============================] - 0s 7ms/step - loss: 0.2411 - accuracy: 0.9024\n",
      "Epoch 52/90\n",
      "3/3 [==============================] - 0s 8ms/step - loss: 0.2238 - accuracy: 0.9390\n",
      "Epoch 53/90\n",
      "3/3 [==============================] - 0s 8ms/step - loss: 0.1349 - accuracy: 0.9878\n",
      "Epoch 54/90\n",
      "3/3 [==============================] - 0s 8ms/step - loss: 0.1129 - accuracy: 1.0000\n",
      "Epoch 55/90\n",
      "3/3 [==============================] - 0s 7ms/step - loss: 0.1705 - accuracy: 0.9512\n",
      "Epoch 56/90\n",
      "3/3 [==============================] - 0s 8ms/step - loss: 0.1526 - accuracy: 0.9512\n",
      "Epoch 57/90\n",
      "3/3 [==============================] - 0s 7ms/step - loss: 0.1355 - accuracy: 0.9878\n",
      "Epoch 58/90\n",
      "3/3 [==============================] - 0s 8ms/step - loss: 0.1344 - accuracy: 0.9878\n",
      "Epoch 59/90\n",
      "3/3 [==============================] - 0s 8ms/step - loss: 0.0877 - accuracy: 0.9878\n",
      "Epoch 60/90\n",
      "3/3 [==============================] - 0s 7ms/step - loss: 0.1239 - accuracy: 0.9878\n",
      "Epoch 61/90\n",
      "3/3 [==============================] - 0s 7ms/step - loss: 0.0956 - accuracy: 0.9878\n",
      "Epoch 62/90\n",
      "3/3 [==============================] - 0s 8ms/step - loss: 0.0757 - accuracy: 0.9756\n",
      "Epoch 63/90\n",
      "3/3 [==============================] - 0s 7ms/step - loss: 0.0848 - accuracy: 1.0000\n",
      "Epoch 64/90\n",
      "3/3 [==============================] - 0s 7ms/step - loss: 0.0811 - accuracy: 0.9756\n",
      "Epoch 65/90\n",
      "3/3 [==============================] - 0s 8ms/step - loss: 0.1059 - accuracy: 0.9878\n",
      "Epoch 66/90\n",
      "3/3 [==============================] - 0s 8ms/step - loss: 0.1035 - accuracy: 0.9634\n",
      "Epoch 67/90\n",
      "3/3 [==============================] - 0s 7ms/step - loss: 0.1188 - accuracy: 0.9634\n",
      "Epoch 68/90\n",
      "3/3 [==============================] - 0s 9ms/step - loss: 0.0851 - accuracy: 0.9878\n",
      "Epoch 69/90\n",
      "3/3 [==============================] - 0s 8ms/step - loss: 0.0827 - accuracy: 0.9878\n",
      "Epoch 70/90\n",
      "3/3 [==============================] - 0s 8ms/step - loss: 0.1692 - accuracy: 0.9512\n",
      "Epoch 71/90\n",
      "3/3 [==============================] - 0s 8ms/step - loss: 0.0895 - accuracy: 0.9878\n",
      "Epoch 72/90\n",
      "3/3 [==============================] - 0s 7ms/step - loss: 0.0822 - accuracy: 0.9878\n",
      "Epoch 73/90\n",
      "3/3 [==============================] - 0s 7ms/step - loss: 0.0875 - accuracy: 0.9756\n",
      "Epoch 74/90\n",
      "3/3 [==============================] - 0s 7ms/step - loss: 0.1191 - accuracy: 0.9512\n",
      "Epoch 75/90\n",
      "3/3 [==============================] - 0s 8ms/step - loss: 0.0893 - accuracy: 0.9878\n",
      "Epoch 76/90\n",
      "3/3 [==============================] - 0s 7ms/step - loss: 0.1025 - accuracy: 0.9878\n",
      "Epoch 77/90\n",
      "3/3 [==============================] - 0s 8ms/step - loss: 0.1083 - accuracy: 0.9756\n",
      "Epoch 78/90\n",
      "3/3 [==============================] - 0s 8ms/step - loss: 0.0938 - accuracy: 0.9878\n",
      "Epoch 79/90\n",
      "3/3 [==============================] - 0s 8ms/step - loss: 0.0338 - accuracy: 1.0000\n",
      "Epoch 80/90\n",
      "3/3 [==============================] - 0s 8ms/step - loss: 0.0449 - accuracy: 1.0000\n",
      "Epoch 81/90\n",
      "3/3 [==============================] - 0s 8ms/step - loss: 0.0758 - accuracy: 0.9878\n",
      "Epoch 82/90\n",
      "3/3 [==============================] - 0s 8ms/step - loss: 0.0329 - accuracy: 0.9878\n",
      "Epoch 83/90\n",
      "3/3 [==============================] - 0s 7ms/step - loss: 0.0586 - accuracy: 1.0000\n",
      "Epoch 84/90\n",
      "3/3 [==============================] - 0s 7ms/step - loss: 0.0666 - accuracy: 0.9878\n",
      "Epoch 85/90\n"
     ]
    },
    {
     "name": "stdout",
     "output_type": "stream",
     "text": [
      "3/3 [==============================] - 0s 8ms/step - loss: 0.0319 - accuracy: 1.0000\n",
      "Epoch 86/90\n",
      "3/3 [==============================] - 0s 7ms/step - loss: 0.0534 - accuracy: 0.9878\n",
      "Epoch 87/90\n",
      "3/3 [==============================] - 0s 8ms/step - loss: 0.0402 - accuracy: 0.9878\n",
      "Epoch 88/90\n",
      "3/3 [==============================] - 0s 8ms/step - loss: 0.0276 - accuracy: 0.9878\n",
      "Epoch 89/90\n",
      "3/3 [==============================] - 0s 7ms/step - loss: 0.0543 - accuracy: 0.9878\n",
      "Epoch 90/90\n",
      "3/3 [==============================] - 0s 8ms/step - loss: 0.0419 - accuracy: 0.9878\n"
     ]
    },
    {
     "data": {
      "text/plain": [
       "<tensorflow.python.keras.callbacks.History at 0x194f3afdb08>"
      ]
     },
     "execution_count": 16,
     "metadata": {},
     "output_type": "execute_result"
    }
   ],
   "source": [
    "# compile and fit the model\n",
    "model.compile(loss=tf.losses.sparse_categorical_crossentropy,\n",
    "               optimizer='Adam',\n",
    "               metrics = [\"accuracy\"])\n",
    "                \n",
    "model.fit(x=input_df['patterns'],\n",
    "           y=input_df['class'],\n",
    "           epochs=90)"
   ]
  },
  {
   "cell_type": "markdown",
   "id": "c5409eee",
   "metadata": {},
   "source": [
    "## Save Model"
   ]
  },
  {
   "cell_type": "code",
   "execution_count": 17,
   "id": "f71bb5e0",
   "metadata": {},
   "outputs": [],
   "source": [
    "# save the text classifier model\n",
    "model.save(\"models/NLP_model.h5\")\n"
   ]
  },
  {
   "cell_type": "markdown",
   "id": "23e11ebb",
   "metadata": {},
   "source": [
    "## Model summary"
   ]
  },
  {
   "cell_type": "code",
   "execution_count": 18,
   "id": "53102d9f",
   "metadata": {},
   "outputs": [
    {
     "name": "stdout",
     "output_type": "stream",
     "text": [
      "Model: \"model_USE\"\n",
      "_________________________________________________________________\n",
      "Layer (type)                 Output Shape              Param #   \n",
      "=================================================================\n",
      "USE (KerasLayer)             (None, 512)               256797824 \n",
      "_________________________________________________________________\n",
      "reshape (Reshape)            (None, 1, 512)            0         \n",
      "_________________________________________________________________\n",
      "lstm (LSTM)                  (None, 512)               2099200   \n",
      "_________________________________________________________________\n",
      "dense (Dense)                (None, 64)                32832     \n",
      "_________________________________________________________________\n",
      "dropout (Dropout)            (None, 64)                0         \n",
      "_________________________________________________________________\n",
      "dense_1 (Dense)              (None, 64)                4160      \n",
      "_________________________________________________________________\n",
      "dropout_1 (Dropout)          (None, 64)                0         \n",
      "_________________________________________________________________\n",
      "dense_2 (Dense)              (None, 19)                1235      \n",
      "=================================================================\n",
      "Total params: 258,935,251\n",
      "Trainable params: 2,137,427\n",
      "Non-trainable params: 256,797,824\n",
      "_________________________________________________________________\n"
     ]
    }
   ],
   "source": [
    "model.summary()"
   ]
  },
  {
   "cell_type": "code",
   "execution_count": null,
   "id": "1954132f",
   "metadata": {},
   "outputs": [],
   "source": []
  },
  {
   "cell_type": "code",
   "execution_count": null,
   "id": "8efe4b48",
   "metadata": {},
   "outputs": [],
   "source": []
  }
 ],
 "metadata": {
  "kernelspec": {
   "display_name": "Python 3 (ipykernel)",
   "language": "python",
   "name": "python3"
  },
  "language_info": {
   "codemirror_mode": {
    "name": "ipython",
    "version": 3
   },
   "file_extension": ".py",
   "mimetype": "text/x-python",
   "name": "python",
   "nbconvert_exporter": "python",
   "pygments_lexer": "ipython3",
   "version": "3.7.13"
  }
 },
 "nbformat": 4,
 "nbformat_minor": 5
}
